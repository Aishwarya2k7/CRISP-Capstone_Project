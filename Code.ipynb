{
  "nbformat": 4,
  "nbformat_minor": 0,
  "metadata": {
    "colab": {
      "name": "Untitled38.ipynb",
      "provenance": [],
      "collapsed_sections": []
    },
    "kernelspec": {
      "name": "python3",
      "display_name": "Python 3"
    },
    "language_info": {
      "name": "python"
    }
  },
  "cells": [
    {
      "cell_type": "code",
      "metadata": {
        "id": "gCdjVBDRYZVz"
      },
      "source": [
        "import keras, tensorflow\n",
        "from keras.models import Model\n",
        "from tensorflow.keras.layers import Input, LSTM, Dense\n",
        "import numpy as np"
      ],
      "execution_count": null,
      "outputs": []
    },
    {
      "cell_type": "code",
      "metadata": {
        "id": "-74paEPmZ2yW"
      },
      "source": [
        "batch_size=64\n",
        "epochs=100\n",
        "latent_dim=256\n",
        "num_samples=10000\n",
        "data_path='fra.txt'"
      ],
      "execution_count": null,
      "outputs": []
    },
    {
      "cell_type": "code",
      "metadata": {
        "id": "DOUhwgnvZ7Vv"
      },
      "source": [
        "input_texts=[]\n",
        "target_texts=[]\n",
        "input_characters=set()\n",
        "target_characters=set()\n",
        "with open(data_path,'r',encoding='utf-8') as f:\n",
        "  lines = f.read().split('\\n')\n",
        "for line in lines[: min(num_samples, len(lines)-1)]:\n",
        "  input_text,  target_text, _ = line.split('\\t')\n",
        "  target_text='\\t'+target_text+'\\n'\n",
        "  input_texts.append(input_text)\n",
        "  target_texts.append(target_text)\n",
        "  for char in input_text:\n",
        "    if char not in input_characters:\n",
        "      input_characters.add(char)\n",
        "  for char in target_text:\n",
        "    if char not in target_characters:\n",
        "      target_characters.add(char)"
      ],
      "execution_count": null,
      "outputs": []
    },
    {
      "cell_type": "code",
      "metadata": {
        "id": "0zHhHAY4aA9W"
      },
      "source": [
        "input_characters=sorted(list(input_characters))\n",
        "target_characters=sorted(list(target_characters))\n",
        "num_encoder_tokens=len(input_characters)\n",
        "num_decoder_tokens=len(target_characters)\n",
        "max_encoder_seq_length=max([len(txt) for txt in input_texts])\n",
        "max_decoder_seq_length=max([len(txt) for txt in target_texts])"
      ],
      "execution_count": null,
      "outputs": []
    },
    {
      "cell_type": "code",
      "metadata": {
        "colab": {
          "base_uri": "https://localhost:8080/"
        },
        "id": "hyvH_X2-aIjg",
        "outputId": "4c1a938f-326d-4d49-83ce-412390254cd5"
      },
      "source": [
        "print('Number of samples:',len(input_texts))\n",
        "print('Number of unique input tokens:', num_encoder_tokens)\n",
        "print('Number of unique output tokens:', num_decoder_tokens)\n",
        "print('Max sequence length for inputs:', max_encoder_seq_length)\n",
        "print('Max sequence length for outputs:', max_decoder_seq_length)"
      ],
      "execution_count": null,
      "outputs": [
        {
          "output_type": "stream",
          "text": [
            "Number of samples: 10000\n",
            "Number of unique input tokens: 71\n",
            "Number of unique output tokens: 92\n",
            "Max sequence length for inputs: 15\n",
            "Max sequence length for outputs: 59\n"
          ],
          "name": "stdout"
        }
      ]
    },
    {
      "cell_type": "code",
      "metadata": {
        "id": "4yvOEwWDaMzn"
      },
      "source": [
        "input_token_index = dict(\n",
        "    [(char,i) for i, char in enumerate(input_characters)]\n",
        ")\n",
        "target_token_index = dict(\n",
        "    [(char,i) for i, char in enumerate(target_characters)]\n",
        ")\n",
        "\n",
        "\n",
        "\n",
        "\n",
        "encoder_input_data=np.zeros(\n",
        "    (len(input_texts), max_encoder_seq_length, num_encoder_tokens), dtype='float32'\n",
        ")\n",
        "decoder_input_data=np.zeros(\n",
        "    (len(input_texts), max_decoder_seq_length, num_decoder_tokens), dtype='float32'\n",
        ")\n",
        "decoder_target_data=np.zeros(\n",
        "    (len(input_texts), max_decoder_seq_length, num_decoder_tokens), dtype='float32'\n",
        ")\n"
      ],
      "execution_count": null,
      "outputs": []
    },
    {
      "cell_type": "code",
      "metadata": {
        "id": "-sYxIO_taS4A"
      },
      "source": [
        "for i, (input_text, target_text) in enumerate(zip(input_texts, target_texts)):\n",
        "  for t, char in enumerate(input_text):\n",
        "    encoder_input_data[i, t, input_token_index[char]] =1.\n",
        "  encoder_input_data[i, t+1:, input_token_index[' ']] =1.\n",
        "  for t, char in enumerate(target_text):\n",
        "    decoder_input_data[i, t, target_token_index[char]] =1.\n",
        "    if t > 0:\n",
        "      decoder_target_data[i, t-1, target_token_index[char]] =1.\n",
        "  decoder_input_data[i, t+1:, target_token_index[' ']] =1.\n",
        "  decoder_target_data[i, t:, target_token_index[' ']] =1.\n"
      ],
      "execution_count": null,
      "outputs": []
    },
    {
      "cell_type": "code",
      "metadata": {
        "id": "3NFD3RlkaWwa"
      },
      "source": [
        "encoder_inputs = Input(shape=(None, num_encoder_tokens))\n",
        "encoder = LSTM(latent_dim, return_state=True)\n",
        "encoder_outputs, state_h, state_c = encoder(encoder_inputs)\n",
        "encoder_states = [state_h, state_c]"
      ],
      "execution_count": null,
      "outputs": []
    },
    {
      "cell_type": "code",
      "metadata": {
        "id": "RMiVzgcsaa0q"
      },
      "source": [
        "decoder_inputs = Input(shape=(None, num_decoder_tokens))\n",
        "decoder_lstm = LSTM(latent_dim, return_sequences=True, return_state=True)\n",
        "decoder_outputs, _, _ = decoder_lstm(decoder_inputs, initial_state=encoder_states)\n",
        "decoder_dense = Dense(num_decoder_tokens, activation='softmax')\n",
        "decoder_outputs = decoder_dense(decoder_outputs)\n"
      ],
      "execution_count": null,
      "outputs": []
    },
    {
      "cell_type": "code",
      "metadata": {
        "id": "CfJF9juuaeux"
      },
      "source": [
        "model = Model([encoder_inputs, decoder_inputs], decoder_outputs)"
      ],
      "execution_count": null,
      "outputs": []
    },
    {
      "cell_type": "code",
      "metadata": {
        "id": "Ch1_eNrHaixo"
      },
      "source": [
        "model.compile(optimizer='rmsprop', loss='categorical_crossentropy', metrics=['accuracy'])"
      ],
      "execution_count": null,
      "outputs": []
    },
    {
      "cell_type": "code",
      "metadata": {
        "colab": {
          "base_uri": "https://localhost:8080/"
        },
        "id": "c-8SSVyqaoyZ",
        "outputId": "4ffbbd1b-82ea-40cf-da66-5398e6611947"
      },
      "source": [
        "model.fit([encoder_input_data, decoder_input_data], decoder_target_data, \n",
        "          batch_size=batch_size, epochs= epochs, validation_split=0.2)"
      ],
      "execution_count": null,
      "outputs": [
        {
          "output_type": "stream",
          "text": [
            "Epoch 1/100\n",
            "125/125 [==============================] - 53s 402ms/step - loss: 1.1434 - accuracy: 0.7356 - val_loss: 1.0329 - val_accuracy: 0.7144\n",
            "Epoch 2/100\n",
            "125/125 [==============================] - 50s 400ms/step - loss: 0.8103 - accuracy: 0.7793 - val_loss: 0.8114 - val_accuracy: 0.7762\n",
            "Epoch 3/100\n",
            "125/125 [==============================] - 50s 403ms/step - loss: 0.6577 - accuracy: 0.8170 - val_loss: 0.7022 - val_accuracy: 0.7975\n",
            "Epoch 4/100\n",
            "125/125 [==============================] - 51s 406ms/step - loss: 0.5660 - accuracy: 0.8355 - val_loss: 0.6226 - val_accuracy: 0.8212\n",
            "Epoch 5/100\n",
            "125/125 [==============================] - 52s 415ms/step - loss: 0.5160 - accuracy: 0.8494 - val_loss: 0.5812 - val_accuracy: 0.8313\n",
            "Epoch 6/100\n",
            "125/125 [==============================] - 51s 409ms/step - loss: 0.4835 - accuracy: 0.8572 - val_loss: 0.5508 - val_accuracy: 0.8385\n",
            "Epoch 7/100\n",
            "125/125 [==============================] - 51s 410ms/step - loss: 0.4564 - accuracy: 0.8644 - val_loss: 0.5426 - val_accuracy: 0.8400\n",
            "Epoch 8/100\n",
            "125/125 [==============================] - 51s 410ms/step - loss: 0.4340 - accuracy: 0.8705 - val_loss: 0.5163 - val_accuracy: 0.8479\n",
            "Epoch 9/100\n",
            "125/125 [==============================] - 51s 412ms/step - loss: 0.4138 - accuracy: 0.8761 - val_loss: 0.5008 - val_accuracy: 0.8523\n",
            "Epoch 10/100\n",
            "125/125 [==============================] - 52s 417ms/step - loss: 0.3959 - accuracy: 0.8812 - val_loss: 0.4896 - val_accuracy: 0.8561\n",
            "Epoch 11/100\n",
            "125/125 [==============================] - 52s 415ms/step - loss: 0.3789 - accuracy: 0.8864 - val_loss: 0.4858 - val_accuracy: 0.8567\n",
            "Epoch 12/100\n",
            "125/125 [==============================] - 52s 416ms/step - loss: 0.3635 - accuracy: 0.8905 - val_loss: 0.4728 - val_accuracy: 0.8603\n",
            "Epoch 13/100\n",
            "125/125 [==============================] - 52s 420ms/step - loss: 0.3488 - accuracy: 0.8953 - val_loss: 0.4673 - val_accuracy: 0.8637\n",
            "Epoch 14/100\n",
            "125/125 [==============================] - 53s 428ms/step - loss: 0.3352 - accuracy: 0.8990 - val_loss: 0.4632 - val_accuracy: 0.8649\n",
            "Epoch 15/100\n",
            "125/125 [==============================] - 53s 424ms/step - loss: 0.3231 - accuracy: 0.9028 - val_loss: 0.4541 - val_accuracy: 0.8679\n",
            "Epoch 16/100\n",
            "125/125 [==============================] - 52s 418ms/step - loss: 0.3113 - accuracy: 0.9060 - val_loss: 0.4529 - val_accuracy: 0.8692\n",
            "Epoch 17/100\n",
            "125/125 [==============================] - 52s 418ms/step - loss: 0.2998 - accuracy: 0.9098 - val_loss: 0.4506 - val_accuracy: 0.8701\n",
            "Epoch 18/100\n",
            "125/125 [==============================] - 52s 415ms/step - loss: 0.2890 - accuracy: 0.9131 - val_loss: 0.4502 - val_accuracy: 0.8702\n",
            "Epoch 19/100\n",
            "125/125 [==============================] - 52s 413ms/step - loss: 0.2787 - accuracy: 0.9161 - val_loss: 0.4485 - val_accuracy: 0.8708\n",
            "Epoch 20/100\n",
            "125/125 [==============================] - 52s 413ms/step - loss: 0.2693 - accuracy: 0.9187 - val_loss: 0.4475 - val_accuracy: 0.8724\n",
            "Epoch 21/100\n",
            "125/125 [==============================] - 51s 407ms/step - loss: 0.2601 - accuracy: 0.9216 - val_loss: 0.4454 - val_accuracy: 0.8731\n",
            "Epoch 22/100\n",
            "125/125 [==============================] - 51s 408ms/step - loss: 0.2519 - accuracy: 0.9238 - val_loss: 0.4486 - val_accuracy: 0.8734\n",
            "Epoch 23/100\n",
            "125/125 [==============================] - 52s 415ms/step - loss: 0.2432 - accuracy: 0.9263 - val_loss: 0.4509 - val_accuracy: 0.8738\n",
            "Epoch 24/100\n",
            "125/125 [==============================] - 52s 413ms/step - loss: 0.2351 - accuracy: 0.9286 - val_loss: 0.4531 - val_accuracy: 0.8733\n",
            "Epoch 25/100\n",
            "125/125 [==============================] - 52s 417ms/step - loss: 0.2276 - accuracy: 0.9312 - val_loss: 0.4493 - val_accuracy: 0.8750\n",
            "Epoch 26/100\n",
            "125/125 [==============================] - 51s 408ms/step - loss: 0.2202 - accuracy: 0.9333 - val_loss: 0.4579 - val_accuracy: 0.8735\n",
            "Epoch 27/100\n",
            "125/125 [==============================] - 51s 408ms/step - loss: 0.2130 - accuracy: 0.9351 - val_loss: 0.4584 - val_accuracy: 0.8741\n",
            "Epoch 28/100\n",
            "125/125 [==============================] - 51s 406ms/step - loss: 0.2062 - accuracy: 0.9374 - val_loss: 0.4604 - val_accuracy: 0.8751\n",
            "Epoch 29/100\n",
            "125/125 [==============================] - 51s 407ms/step - loss: 0.2001 - accuracy: 0.9391 - val_loss: 0.4654 - val_accuracy: 0.8744\n",
            "Epoch 30/100\n",
            "125/125 [==============================] - 52s 416ms/step - loss: 0.1938 - accuracy: 0.9411 - val_loss: 0.4701 - val_accuracy: 0.8750\n",
            "Epoch 31/100\n",
            "125/125 [==============================] - 52s 419ms/step - loss: 0.1878 - accuracy: 0.9430 - val_loss: 0.4726 - val_accuracy: 0.8735\n",
            "Epoch 32/100\n",
            "125/125 [==============================] - 52s 417ms/step - loss: 0.1825 - accuracy: 0.9441 - val_loss: 0.4783 - val_accuracy: 0.8740\n",
            "Epoch 33/100\n",
            "125/125 [==============================] - 52s 416ms/step - loss: 0.1766 - accuracy: 0.9464 - val_loss: 0.4777 - val_accuracy: 0.8743\n",
            "Epoch 34/100\n",
            "125/125 [==============================] - 52s 420ms/step - loss: 0.1718 - accuracy: 0.9476 - val_loss: 0.4861 - val_accuracy: 0.8734\n",
            "Epoch 35/100\n",
            "125/125 [==============================] - 51s 410ms/step - loss: 0.1666 - accuracy: 0.9490 - val_loss: 0.4918 - val_accuracy: 0.8732\n",
            "Epoch 36/100\n",
            "125/125 [==============================] - 52s 415ms/step - loss: 0.1617 - accuracy: 0.9504 - val_loss: 0.5082 - val_accuracy: 0.8707\n",
            "Epoch 37/100\n",
            "125/125 [==============================] - 51s 410ms/step - loss: 0.1572 - accuracy: 0.9520 - val_loss: 0.4977 - val_accuracy: 0.8746\n",
            "Epoch 38/100\n",
            "125/125 [==============================] - 50s 404ms/step - loss: 0.1529 - accuracy: 0.9533 - val_loss: 0.5023 - val_accuracy: 0.8741\n",
            "Epoch 39/100\n",
            "125/125 [==============================] - 51s 405ms/step - loss: 0.1485 - accuracy: 0.9544 - val_loss: 0.5112 - val_accuracy: 0.8737\n",
            "Epoch 40/100\n",
            "125/125 [==============================] - 51s 410ms/step - loss: 0.1444 - accuracy: 0.9558 - val_loss: 0.5148 - val_accuracy: 0.8744\n",
            "Epoch 41/100\n",
            "125/125 [==============================] - 52s 417ms/step - loss: 0.1406 - accuracy: 0.9566 - val_loss: 0.5181 - val_accuracy: 0.8735\n",
            "Epoch 42/100\n",
            "125/125 [==============================] - 52s 415ms/step - loss: 0.1369 - accuracy: 0.9578 - val_loss: 0.5230 - val_accuracy: 0.8721\n",
            "Epoch 43/100\n",
            "125/125 [==============================] - 51s 412ms/step - loss: 0.1335 - accuracy: 0.9588 - val_loss: 0.5271 - val_accuracy: 0.8727\n",
            "Epoch 44/100\n",
            "125/125 [==============================] - 51s 411ms/step - loss: 0.1300 - accuracy: 0.9600 - val_loss: 0.5325 - val_accuracy: 0.8732\n",
            "Epoch 45/100\n",
            "125/125 [==============================] - 51s 412ms/step - loss: 0.1267 - accuracy: 0.9606 - val_loss: 0.5338 - val_accuracy: 0.8734\n",
            "Epoch 46/100\n",
            "125/125 [==============================] - 52s 413ms/step - loss: 0.1234 - accuracy: 0.9616 - val_loss: 0.5425 - val_accuracy: 0.8732\n",
            "Epoch 47/100\n",
            "125/125 [==============================] - 51s 410ms/step - loss: 0.1204 - accuracy: 0.9625 - val_loss: 0.5457 - val_accuracy: 0.8732\n",
            "Epoch 48/100\n",
            "125/125 [==============================] - 51s 410ms/step - loss: 0.1175 - accuracy: 0.9636 - val_loss: 0.5571 - val_accuracy: 0.8729\n",
            "Epoch 49/100\n",
            "125/125 [==============================] - 51s 411ms/step - loss: 0.1144 - accuracy: 0.9643 - val_loss: 0.5589 - val_accuracy: 0.8731\n",
            "Epoch 50/100\n",
            "125/125 [==============================] - 52s 414ms/step - loss: 0.1119 - accuracy: 0.9649 - val_loss: 0.5681 - val_accuracy: 0.8726\n",
            "Epoch 51/100\n",
            "125/125 [==============================] - 52s 415ms/step - loss: 0.1092 - accuracy: 0.9660 - val_loss: 0.5692 - val_accuracy: 0.8730\n",
            "Epoch 52/100\n",
            "125/125 [==============================] - 52s 416ms/step - loss: 0.1067 - accuracy: 0.9666 - val_loss: 0.5672 - val_accuracy: 0.8733\n",
            "Epoch 53/100\n",
            "125/125 [==============================] - 52s 414ms/step - loss: 0.1043 - accuracy: 0.9674 - val_loss: 0.5765 - val_accuracy: 0.8720\n",
            "Epoch 54/100\n",
            "125/125 [==============================] - 52s 416ms/step - loss: 0.1017 - accuracy: 0.9680 - val_loss: 0.5839 - val_accuracy: 0.8720\n",
            "Epoch 55/100\n",
            "125/125 [==============================] - 53s 426ms/step - loss: 0.0996 - accuracy: 0.9687 - val_loss: 0.5852 - val_accuracy: 0.8727\n",
            "Epoch 56/100\n",
            "125/125 [==============================] - 52s 416ms/step - loss: 0.0976 - accuracy: 0.9690 - val_loss: 0.5941 - val_accuracy: 0.8725\n",
            "Epoch 57/100\n",
            "125/125 [==============================] - 51s 409ms/step - loss: 0.0954 - accuracy: 0.9699 - val_loss: 0.5939 - val_accuracy: 0.8724\n",
            "Epoch 58/100\n",
            "125/125 [==============================] - 52s 414ms/step - loss: 0.0930 - accuracy: 0.9703 - val_loss: 0.6005 - val_accuracy: 0.8720\n",
            "Epoch 59/100\n",
            "125/125 [==============================] - 51s 411ms/step - loss: 0.0908 - accuracy: 0.9713 - val_loss: 0.6064 - val_accuracy: 0.8721\n",
            "Epoch 60/100\n",
            "125/125 [==============================] - 52s 413ms/step - loss: 0.0889 - accuracy: 0.9718 - val_loss: 0.6141 - val_accuracy: 0.8714\n",
            "Epoch 61/100\n",
            "125/125 [==============================] - 52s 413ms/step - loss: 0.0871 - accuracy: 0.9722 - val_loss: 0.6174 - val_accuracy: 0.8718\n",
            "Epoch 62/100\n",
            "125/125 [==============================] - 51s 408ms/step - loss: 0.0852 - accuracy: 0.9727 - val_loss: 0.6232 - val_accuracy: 0.8720\n",
            "Epoch 63/100\n",
            "125/125 [==============================] - 51s 408ms/step - loss: 0.0834 - accuracy: 0.9732 - val_loss: 0.6248 - val_accuracy: 0.8724\n",
            "Epoch 64/100\n",
            "125/125 [==============================] - 51s 412ms/step - loss: 0.0968 - accuracy: 0.9703 - val_loss: 0.6285 - val_accuracy: 0.8722\n",
            "Epoch 65/100\n",
            "125/125 [==============================] - 51s 407ms/step - loss: 0.0800 - accuracy: 0.9742 - val_loss: 0.6358 - val_accuracy: 0.8716\n",
            "Epoch 66/100\n",
            "125/125 [==============================] - 51s 408ms/step - loss: 0.0791 - accuracy: 0.9745 - val_loss: 0.6371 - val_accuracy: 0.8715\n",
            "Epoch 67/100\n",
            "125/125 [==============================] - 52s 415ms/step - loss: 0.0776 - accuracy: 0.9749 - val_loss: 0.6439 - val_accuracy: 0.8716\n",
            "Epoch 68/100\n",
            "125/125 [==============================] - 51s 410ms/step - loss: 0.0762 - accuracy: 0.9753 - val_loss: 0.6433 - val_accuracy: 0.8716\n",
            "Epoch 69/100\n",
            "125/125 [==============================] - 51s 409ms/step - loss: 0.0745 - accuracy: 0.9757 - val_loss: 0.6503 - val_accuracy: 0.8717\n",
            "Epoch 70/100\n",
            "125/125 [==============================] - 51s 409ms/step - loss: 0.0730 - accuracy: 0.9761 - val_loss: 0.6592 - val_accuracy: 0.8721\n",
            "Epoch 71/100\n",
            "125/125 [==============================] - 51s 412ms/step - loss: 0.0715 - accuracy: 0.9766 - val_loss: 0.6643 - val_accuracy: 0.8717\n",
            "Epoch 72/100\n",
            "125/125 [==============================] - 52s 413ms/step - loss: 0.0704 - accuracy: 0.9769 - val_loss: 0.6657 - val_accuracy: 0.8710\n",
            "Epoch 73/100\n",
            "125/125 [==============================] - 51s 408ms/step - loss: 0.0690 - accuracy: 0.9773 - val_loss: 0.6728 - val_accuracy: 0.8702\n",
            "Epoch 74/100\n",
            "125/125 [==============================] - 51s 412ms/step - loss: 0.0675 - accuracy: 0.9776 - val_loss: 0.6780 - val_accuracy: 0.8709\n",
            "Epoch 75/100\n",
            "125/125 [==============================] - 52s 413ms/step - loss: 0.0665 - accuracy: 0.9780 - val_loss: 0.6767 - val_accuracy: 0.8721\n",
            "Epoch 76/100\n",
            "125/125 [==============================] - 52s 415ms/step - loss: 0.0655 - accuracy: 0.9780 - val_loss: 0.6760 - val_accuracy: 0.8711\n",
            "Epoch 77/100\n",
            "125/125 [==============================] - 52s 418ms/step - loss: 0.0639 - accuracy: 0.9788 - val_loss: 0.6844 - val_accuracy: 0.8715\n",
            "Epoch 78/100\n",
            "125/125 [==============================] - 52s 415ms/step - loss: 0.0629 - accuracy: 0.9787 - val_loss: 0.6865 - val_accuracy: 0.8705\n",
            "Epoch 79/100\n",
            "125/125 [==============================] - 53s 420ms/step - loss: 0.0619 - accuracy: 0.9792 - val_loss: 0.6969 - val_accuracy: 0.8711\n",
            "Epoch 80/100\n",
            "125/125 [==============================] - 53s 422ms/step - loss: 0.0608 - accuracy: 0.9796 - val_loss: 0.7058 - val_accuracy: 0.8692\n",
            "Epoch 81/100\n",
            "125/125 [==============================] - 52s 420ms/step - loss: 0.0599 - accuracy: 0.9799 - val_loss: 0.7041 - val_accuracy: 0.8700\n",
            "Epoch 82/100\n",
            "125/125 [==============================] - 52s 415ms/step - loss: 0.0590 - accuracy: 0.9801 - val_loss: 0.7030 - val_accuracy: 0.8717\n",
            "Epoch 83/100\n",
            "125/125 [==============================] - 52s 417ms/step - loss: 0.0578 - accuracy: 0.9804 - val_loss: 0.7150 - val_accuracy: 0.8696\n",
            "Epoch 84/100\n",
            "125/125 [==============================] - 52s 416ms/step - loss: 0.0569 - accuracy: 0.9807 - val_loss: 0.7078 - val_accuracy: 0.8707\n",
            "Epoch 85/100\n",
            "125/125 [==============================] - 52s 414ms/step - loss: 0.0559 - accuracy: 0.9811 - val_loss: 0.7164 - val_accuracy: 0.8699\n",
            "Epoch 86/100\n",
            "125/125 [==============================] - 52s 417ms/step - loss: 0.0551 - accuracy: 0.9811 - val_loss: 0.7198 - val_accuracy: 0.8705\n",
            "Epoch 87/100\n",
            "125/125 [==============================] - 52s 414ms/step - loss: 0.0542 - accuracy: 0.9812 - val_loss: 0.7203 - val_accuracy: 0.8693\n",
            "Epoch 88/100\n",
            "125/125 [==============================] - 52s 413ms/step - loss: 0.0533 - accuracy: 0.9818 - val_loss: 0.7258 - val_accuracy: 0.8704\n",
            "Epoch 89/100\n",
            "125/125 [==============================] - 52s 418ms/step - loss: 0.0526 - accuracy: 0.9819 - val_loss: 0.7308 - val_accuracy: 0.8700\n",
            "Epoch 90/100\n",
            "125/125 [==============================] - 52s 417ms/step - loss: 0.0517 - accuracy: 0.9821 - val_loss: 0.7334 - val_accuracy: 0.8707\n",
            "Epoch 91/100\n",
            "125/125 [==============================] - 52s 419ms/step - loss: 0.0509 - accuracy: 0.9825 - val_loss: 0.7378 - val_accuracy: 0.8696\n",
            "Epoch 92/100\n",
            "125/125 [==============================] - 54s 430ms/step - loss: 0.0505 - accuracy: 0.9825 - val_loss: 0.7364 - val_accuracy: 0.8701\n",
            "Epoch 93/100\n",
            "125/125 [==============================] - 53s 423ms/step - loss: 0.0497 - accuracy: 0.9827 - val_loss: 0.7406 - val_accuracy: 0.8702\n",
            "Epoch 94/100\n",
            "125/125 [==============================] - 53s 428ms/step - loss: 0.0489 - accuracy: 0.9830 - val_loss: 0.7479 - val_accuracy: 0.8707\n",
            "Epoch 95/100\n",
            "125/125 [==============================] - 54s 430ms/step - loss: 0.0484 - accuracy: 0.9829 - val_loss: 0.7529 - val_accuracy: 0.8703\n",
            "Epoch 96/100\n",
            "125/125 [==============================] - 53s 426ms/step - loss: 0.0478 - accuracy: 0.9831 - val_loss: 0.7615 - val_accuracy: 0.8696\n",
            "Epoch 97/100\n",
            "125/125 [==============================] - 53s 422ms/step - loss: 0.0472 - accuracy: 0.9834 - val_loss: 0.7577 - val_accuracy: 0.8691\n",
            "Epoch 98/100\n",
            "125/125 [==============================] - 54s 432ms/step - loss: 0.0465 - accuracy: 0.9836 - val_loss: 0.7623 - val_accuracy: 0.8701\n",
            "Epoch 99/100\n",
            "125/125 [==============================] - 53s 426ms/step - loss: 0.0460 - accuracy: 0.9836 - val_loss: 0.7574 - val_accuracy: 0.8697\n",
            "Epoch 100/100\n",
            "125/125 [==============================] - 52s 419ms/step - loss: 0.0459 - accuracy: 0.9838 - val_loss: 0.7638 - val_accuracy: 0.8692\n"
          ],
          "name": "stdout"
        },
        {
          "output_type": "execute_result",
          "data": {
            "text/plain": [
              "<keras.callbacks.History at 0x7f1a161d21d0>"
            ]
          },
          "metadata": {},
          "execution_count": 12
        }
      ]
    },
    {
      "cell_type": "code",
      "metadata": {
        "id": "TgfRqXxSa4t0"
      },
      "source": [
        "model.save('smode.h5')"
      ],
      "execution_count": null,
      "outputs": []
    },
    {
      "cell_type": "code",
      "metadata": {
        "id": "f5EKqlzKvNvm"
      },
      "source": [
        "encoder_model = Model(encoder_inputs, encoder_states)\n",
        "decoder_state_input_h = Input(shape=(latent_dim,))\n",
        "decoder_state_input_c = Input(shape=(latent_dim,))\n",
        "decoder_state_inputs = [decoder_state_input_h, decoder_state_input_c]\n",
        "decoder_outputs, state_h, state_c = decoder_lstm(\n",
        "    decoder_inputs, initial_state=decoder_state_inputs\n",
        ")\n",
        "decoder_states = [state_h, state_c]\n",
        "decoder_outputs = decoder_dense(decoder_outputs)\n",
        "decoder_model = Model(\n",
        "    [decoder_inputs] + decoder_state_inputs,\n",
        "    [decoder_outputs] + decoder_states\n",
        ")\n",
        "\n",
        "reverse_input_char_index = dict(\n",
        "    (i, char) for char, i in input_token_index.items()\n",
        ")\n",
        "reverse_target_char_index = dict(\n",
        "    (i, char) for char, i in target_token_index.items()\n",
        ")"
      ],
      "execution_count": null,
      "outputs": []
    },
    {
      "cell_type": "code",
      "metadata": {
        "id": "qbFjDCv9vcAE"
      },
      "source": [
        "def decode_sequence(input_seq):\n",
        "    # Encode the input as state vectors.\n",
        "    states_value = encoder_model.predict(input_seq)\n",
        "\n",
        "    # Generate empty target sequence of length 1.\n",
        "    target_seq = np.zeros((1, 1, num_decoder_tokens))\n",
        "    # Populate the first character of target sequence with the start character.\n",
        "    target_seq[0, 0, target_token_index['\\t']] = 1.\n",
        "\n",
        "    # Sampling loop for a batch of sequences\n",
        "    # (to simplify, here we assume a batch of size 1).\n",
        "    stop_condition = False\n",
        "    decoded_sentence = ''\n",
        "    while not stop_condition:\n",
        "        output_tokens, h, c = decoder_model.predict(\n",
        "            [target_seq] + states_value)\n",
        "\n",
        "        # Sample a token\n",
        "        sampled_token_index = np.argmax(output_tokens[0, -1, :])\n",
        "        sampled_char = reverse_target_char_index[sampled_token_index]\n",
        "        decoded_sentence += sampled_char\n",
        "\n",
        "        # Exit condition: either hit max length\n",
        "        # or find stop character.\n",
        "        if (sampled_char == '\\n' or\n",
        "           len(decoded_sentence) > max_decoder_seq_length):\n",
        "            stop_condition = True\n",
        "\n",
        "        # Update the target sequence (of length 1).\n",
        "        target_seq = np.zeros((1, 1, num_decoder_tokens))\n",
        "        target_seq[0, 0, sampled_token_index] = 1.\n",
        "\n",
        "        # Update states\n",
        "        states_value = [h, c]\n",
        "\n",
        "    return decoded_sentence"
      ],
      "execution_count": null,
      "outputs": []
    },
    {
      "cell_type": "code",
      "metadata": {
        "colab": {
          "base_uri": "https://localhost:8080/"
        },
        "id": "b3bWZSaVvm9g",
        "outputId": "a65fd667-8f9a-4e58-cf71-9e16e83c4fd9"
      },
      "source": [
        "    input_sentence = \"You are good\"\n",
        "    test_sentence_tokenized = np.zeros((1,max_encoder_seq_length, num_encoder_tokens), dtype='float32')\n",
        "    for t, char in enumerate(input_sentence):\n",
        "        test_sentence_tokenized[0, t, input_token_index[char]] = 1.\n",
        "    print(input_sentence)\n",
        "    print(decode_sequence(test_sentence_tokenized))\n",
        "    print('')"
      ],
      "execution_count": null,
      "outputs": [
        {
          "output_type": "stream",
          "text": [
            "You are good\n",
            "Vous êtes bonne.\n",
            "\n",
            "\n"
          ],
          "name": "stdout"
        }
      ]
    },
    {
      "cell_type": "code",
      "metadata": {
        "id": "uiAu-aEIvvLG"
      },
      "source": [
        ""
      ],
      "execution_count": null,
      "outputs": []
    }
  ]
}