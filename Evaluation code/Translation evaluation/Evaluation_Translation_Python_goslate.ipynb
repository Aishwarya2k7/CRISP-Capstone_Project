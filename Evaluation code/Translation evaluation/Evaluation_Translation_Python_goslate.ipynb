{
  "nbformat": 4,
  "nbformat_minor": 0,
  "metadata": {
    "colab": {
      "name": "Copy of Untitled56.ipynb",
      "provenance": []
    },
    "kernelspec": {
      "name": "python3",
      "display_name": "Python 3"
    },
    "language_info": {
      "name": "python"
    }
  },
  "cells": [
    {
      "cell_type": "code",
      "metadata": {
        "colab": {
          "base_uri": "https://localhost:8080/"
        },
        "id": "x5WxEh9SC6rc",
        "outputId": "f98e46ff-7c39-41d4-eab0-a82741179572"
      },
      "source": [
        "pip install jellyfish"
      ],
      "execution_count": null,
      "outputs": [
        {
          "output_type": "stream",
          "name": "stdout",
          "text": [
            "Collecting jellyfish\n",
            "  Downloading jellyfish-0.8.8.tar.gz (134 kB)\n",
            "\u001b[K     |████████████████████████████████| 134 kB 2.7 MB/s \n",
            "\u001b[?25hBuilding wheels for collected packages: jellyfish\n",
            "  Building wheel for jellyfish (setup.py) ... \u001b[?25l\u001b[?25hdone\n",
            "  Created wheel for jellyfish: filename=jellyfish-0.8.8-cp37-cp37m-linux_x86_64.whl size=73228 sha256=590a807b31fb16b6eaf0a5f384251ce8f46a47157944a1933286ada5a112fe73\n",
            "  Stored in directory: /root/.cache/pip/wheels/82/aa/f4/716387e1f167cbbf911488aa056138152f4d8699c9c9b43ea8\n",
            "Successfully built jellyfish\n",
            "Installing collected packages: jellyfish\n",
            "Successfully installed jellyfish-0.8.8\n"
          ]
        }
      ]
    },
    {
      "cell_type": "code",
      "metadata": {
        "id": "vOEzsWIZDD6i"
      },
      "source": [
        "import jellyfish"
      ],
      "execution_count": null,
      "outputs": []
    },
    {
      "cell_type": "code",
      "metadata": {
        "id": "OdxD1qDODF48"
      },
      "source": [
        "text1=\"And if we really want to get out of this economic mess, if we really want high performance on those definitional tasks of the 21st century, the solution is not to do more of the wrong things, to entice people with a sweeter carrot, or threaten them with a sharper stick. I saw somebody kind of make the motion over here -- some people have a great idea where they light the match, melt the side of the candle, try to adhere it to the wall. You don't see a lot of it, but you see the first stirrings of something really interesting going on, what it means is paying people adequately and fairly, absolutely -- getting the issue of money off the table, and then giving people lots of autonomy.\"\n",
        "text2=\"And if we really want to get out of this economic mess, if we really want high performance on those definitive tasks of the 21st century, the solution is not to do more of the wrong things, to tempt people with a sweeter carrot, or threaten Them with a sharper stick I saw someone make a little bit of the move here - some people have a great idea where they light the match, melt the side of the candle try to stick it to the wall you don't see much of that but you sees the first stirs of something really interesting, what it means is paying people adequate and fair, absolutely - the problem of getting money off the table, and then giving a lot of autonomy\""
      ],
      "execution_count": null,
      "outputs": []
    },
    {
      "cell_type": "code",
      "metadata": {
        "colab": {
          "base_uri": "https://localhost:8080/"
        },
        "id": "5P9ZbklbD-GI",
        "outputId": "c80cdc2c-6f82-4f8c-a200-59cb5e5ba22d"
      },
      "source": [
        "jellyfish.jaro_winkler_similarity(text1,text2)"
      ],
      "execution_count": null,
      "outputs": [
        {
          "output_type": "execute_result",
          "data": {
            "text/plain": [
              "0.9084971575995875"
            ]
          },
          "metadata": {},
          "execution_count": 4
        }
      ]
    },
    {
      "cell_type": "code",
      "metadata": {
        "id": "2nKUpx50EGbx"
      },
      "source": [
        "text3=\"En als we echt uit deze economische puinhoop willen komen, als we echt hoge prestaties willen op die definitieve taken van de 21ste eeuw, is de oplossing niet om meer van de verkeerde dingen te doen, om mensen te verleiden met een zoetere wortel, of bedreigend Hen met een scherpere stok zag ik iemand een beetje de beweging hier maken - sommige mensen hebben een geweldig idee waar ze de wedstrijd aansteken, de zijkant van de kaars smelten, probeer het aan de muur te houden die je niet veel ziet Daarvan, maar je ziet de eerste roerstingen van iets echt interessants, wat het betekent, is het betalen van mensen adequaat en eerlijk, absoluut - het probleem van geld van de tafel te krijgen, en dan veel autonomie te geven\"\n",
        "text4=\"En als we echt uit deze economische puinhoop willen komen, als we echt hoge prestaties willen op die bepalende taken van de 21e eeuw, is de oplossing niet om meer van de verkeerde dingen te doen, mensen te verleiden met een zoetere wortel, of te dreigen ze met een scherpere stok. Ik zag iemand hier een soort beweging maken -- sommige mensen hebben een geweldig idee waar ze de lucifer aansteken, de zijkant van de kaars smelten, proberen deze aan de muur te plakken. Je ziet er niet veel van, maar je ziet de eerste opwinding van iets heel interessants, wat het betekent om mensen adequaat en eerlijk te betalen, absoluut -- de kwestie van geld van tafel krijgen, en dan mensen veel geven van autonomie.\""
      ],
      "execution_count": null,
      "outputs": []
    },
    {
      "cell_type": "code",
      "metadata": {
        "colab": {
          "base_uri": "https://localhost:8080/"
        },
        "id": "AcZcvnkyEkCW",
        "outputId": "6052a067-06a7-46d1-ecb3-88550d75a2dc"
      },
      "source": [
        "jellyfish.jaro_winkler_similarity(text3,text4)"
      ],
      "execution_count": null,
      "outputs": [
        {
          "output_type": "execute_result",
          "data": {
            "text/plain": [
              "0.9093921765301625"
            ]
          },
          "metadata": {},
          "execution_count": 6
        }
      ]
    },
    {
      "cell_type": "code",
      "metadata": {
        "id": "y_209GvCE5Ia"
      },
      "source": [
        ""
      ],
      "execution_count": null,
      "outputs": []
    }
  ]
}