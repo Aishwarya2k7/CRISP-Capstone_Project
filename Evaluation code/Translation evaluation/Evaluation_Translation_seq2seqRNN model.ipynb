{
  "nbformat": 4,
  "nbformat_minor": 0,
  "metadata": {
    "colab": {
      "name": "Evaluation.ipynb",
      "provenance": []
    },
    "kernelspec": {
      "name": "python3",
      "display_name": "Python 3"
    },
    "language_info": {
      "name": "python"
    }
  },
  "cells": [
    {
      "cell_type": "code",
      "metadata": {
        "colab": {
          "base_uri": "https://localhost:8080/"
        },
        "id": "yOccH-EVyENc",
        "outputId": "10bc299d-a09c-4088-f778-5e14ff21e9ba"
      },
      "source": [
        "pip install jellyfish"
      ],
      "execution_count": null,
      "outputs": [
        {
          "output_type": "stream",
          "name": "stdout",
          "text": [
            "Collecting jellyfish\n",
            "  Downloading jellyfish-0.8.8.tar.gz (134 kB)\n",
            "\u001b[?25l\r\u001b[K     |██▍                             | 10 kB 21.0 MB/s eta 0:00:01\r\u001b[K     |████▉                           | 20 kB 26.8 MB/s eta 0:00:01\r\u001b[K     |███████▎                        | 30 kB 12.3 MB/s eta 0:00:01\r\u001b[K     |█████████▊                      | 40 kB 9.0 MB/s eta 0:00:01\r\u001b[K     |████████████▏                   | 51 kB 5.1 MB/s eta 0:00:01\r\u001b[K     |██████████████▋                 | 61 kB 5.3 MB/s eta 0:00:01\r\u001b[K     |█████████████████               | 71 kB 5.5 MB/s eta 0:00:01\r\u001b[K     |███████████████████▌            | 81 kB 6.1 MB/s eta 0:00:01\r\u001b[K     |██████████████████████          | 92 kB 4.6 MB/s eta 0:00:01\r\u001b[K     |████████████████████████▍       | 102 kB 5.0 MB/s eta 0:00:01\r\u001b[K     |██████████████████████████▉     | 112 kB 5.0 MB/s eta 0:00:01\r\u001b[K     |█████████████████████████████▎  | 122 kB 5.0 MB/s eta 0:00:01\r\u001b[K     |███████████████████████████████▊| 133 kB 5.0 MB/s eta 0:00:01\r\u001b[K     |████████████████████████████████| 134 kB 5.0 MB/s \n",
            "\u001b[?25hBuilding wheels for collected packages: jellyfish\n",
            "  Building wheel for jellyfish (setup.py) ... \u001b[?25l\u001b[?25hdone\n",
            "  Created wheel for jellyfish: filename=jellyfish-0.8.8-cp37-cp37m-linux_x86_64.whl size=73229 sha256=c7d93b1b697f65ca7042adb47495ff90509a306ae622d60e58c2c59060af6aa5\n",
            "  Stored in directory: /root/.cache/pip/wheels/82/aa/f4/716387e1f167cbbf911488aa056138152f4d8699c9c9b43ea8\n",
            "Successfully built jellyfish\n",
            "Installing collected packages: jellyfish\n",
            "Successfully installed jellyfish-0.8.8\n"
          ]
        }
      ]
    },
    {
      "cell_type": "code",
      "metadata": {
        "id": "Yw1vo6bEyOI9"
      },
      "source": [
        "import jellyfish"
      ],
      "execution_count": null,
      "outputs": []
    },
    {
      "cell_type": "code",
      "metadata": {
        "id": "TyP6wTHzyjj2"
      },
      "source": [
        "text1=\"And the thing that's so spectacular about that to me is not just the ringing, though that is awesome. We're never going to see the stuff outside, but by going to the South Pole and spending three years looking at the detailed structure of the night sky, we can figure out that we're probably in a universe that looks kind of like that.\""
      ],
      "execution_count": null,
      "outputs": []
    },
    {
      "cell_type": "code",
      "metadata": {
        "id": "7xT5kvYb1bzE"
      },
      "source": [
        "text2=\"Who are you? Stay gone Did it do That wouldn't act on me Trommest Tombress Is it? Cast your vote patie Look at your vote Reste assis sen adoucoy! Continue to imer Live at soft! It's chal mYYndermène-tui! Let yourself go please Stay as go Let go of me! Stop fladre Stay seated sen soft! It is chal Look with mei Y dincrouQtelle un moi! Are you dassériens? Continue to ime We vons sure Stay the go Stay the winner Au un impollate! He cussintra He read tent Is it dassériens? Continue to imer Stay as iré Des de cons arfeat il! Check it out! Ink on the back Don't be able to keep rolling! Have you confessed! Do you know Do you have a weapon! Stay as gone I won't cry The fommes armu themselves Stay as gone Get drunk on this Let yourself be sucked in! What strong? Amandu laurhe Follow the dear! Fuez alat-il Stay seated sen soft! Tom is an iclete? Condins for who you are! Do not blagger Look Tom Suppore Tom Tommé Stay seated sen soft! Just unzip it! Do not parit tormble! The men armed themselves No fromde! Regéte seated\""
      ],
      "execution_count": null,
      "outputs": []
    },
    {
      "cell_type": "code",
      "metadata": {
        "colab": {
          "base_uri": "https://localhost:8080/"
        },
        "id": "NMBqwfG81vBt",
        "outputId": "51e2e9e2-d182-44cb-e01c-20f32a12ee87"
      },
      "source": [
        "jellyfish.jaro_winkler_similarity(text1,text2)"
      ],
      "execution_count": null,
      "outputs": [
        {
          "output_type": "execute_result",
          "data": {
            "text/plain": [
              "0.6052765954599296"
            ]
          },
          "metadata": {},
          "execution_count": 9
        }
      ]
    },
    {
      "cell_type": "code",
      "metadata": {
        "id": "KKlk_Ec21zmU"
      },
      "source": [
        "text3=\"Quictez nous e toi ? Restez as iré At-le fass Ce m'agirais pas Trommest Tombress-t-il ? Canstez votrea vote patie Regardez vot aver Reste assis sen adoucoy ! Continuez à l'imer Viez chez mou ! C'est chal mYYndermène-tui ! Laisez-vous s'il vous plaît Restez as iré Lâche m'en sis e toin ! Arrête de fladre Reste assis sen adoucoy ! C'est chal Regardez avec mei Y dincrouQtelle un moi ! C'est dassériens-toi ? Continuez à l'imer Nous s vons sure Restez as iré Restez à l'emporte Au un impollate ! Il a cussintra Il lu tent C'est dassériens-toi ? Continuez à l'imer Restez as iré Des de cons arfeat-il ! Verez mou de l'il ! Tencre à l'hers Ne daissez pas en able Continue à rouler ! Dus aveux vous ! Sait-ilissez-vous Atez arme ! Restez as iré i à nois re de pleurer Les fommes s'en armu Restez as iré Ennegez-vous ceci Laissez-vous soutire ! Quelle fort ? Amandu laurhe Suis le cher ! Fuez alat-il Reste assis sen adoucoy ! Tom est iclète ? Condins pour qui t'en al ! Ne blaggère pas Regarde Tom Suppore Tom Tommé Reste assis sen adoucoy ! Dempsez-le simplement ! Ne paritsez pas tormble ! Les fommes s'en armu Pas de fromde ! Regéte assis Quictez nous e toi ? Ne t'ai fait pas Quelle fort ? Série sert malquil ! C'est de l'arrchante Continuez à l'imer Enmerrez-la Fuez alat-il Les fommes s'en armu Reste assises Bonnoliez vous malion Vous êtes du seute Ne t'ai fait pas Quelle fort ? Série sert malquil ! C'est de l'arrchante Lavez votre voir Neurris llame t'en se lais Venool s'el vous pas ! Ce s'est pas nougea re celle chançon Reste gagner Les fommes s'en armu Restez as iré Continuez à l'imer Ségeriez-vous ! Restez as iré tespez à n'issaye C'est chal mYYndermène-tui ! Continuez à l'imer Veille entembre Viens te heureux ! Les fommes s'en armu Restez as iré Aite domme à vour un fous ? reste me quille ! Continuez à l'imer Dis-me m'ensais de la mainque Sauvez Tom ! C'est tropisile tt fal me faire Regarde Tom Commest dessez-les der icle ? Cais de la récile Commentez-le à la maison ? Continuez à l'ire Contente as arver C'est tropisile tt fal me faire Regarde Tom mes bien du ! te tersser Restez avourage Tom obiti Ne paritsez pas tormble ! Les fommes s'en armu Prends ma marcie à Tom Restez as iré Tom va la mercher du somme Saispes-me Nous sommes sournois l an baison Tom a faim trent Sauvez Tom ! Sauvez-moin Regarde Tom Exmère enceraiten Don bien soit vous Airjère Tom va mort Restez concentrée res en eu fois Restez as iré Rentez à loire ai entrer Tama Restez as iré C'est drôle Les fommes s'en armu Restez as iré Ne toitez toi ! Restez tranquille ! Continuez à l'imer Vez linne à pleistant Reste assis Continuez à l'imer Restez as iré Cela fure t a faites mieux Ne ne faise pas Nous s vons sure Regarde Tom Demandez ça Les fommes s'en armu Reste al semmen ! Il a cussintra réseperez-vous Nous s vons sure Restez as iré Écois-nous des nouveaux ! testez saïs Les fommes s'en armu Tom a plissé ici Série sert malquil ! C'est enssient C'est dassériens-toi ? Privez pour moi ! C'est déle rezurdion Reste assis Dien seul de qui pas ! C'est chal Chauvez pas ! Sauvez Tom ! Désigez-vous en vire ! Tencre à l'hers Jéseissez scre ravais-je l'écler l an baison S'int queit se vicu Restez as iré C'est de la nourriture Les fommes s'en armu Viens tiendent marrêtes ! Soyez impitoyable ! Restez as iré Regué dircitit Tencre à l'hers Continuez à roucer ! Celmez de commence ntre Sauvez Tom ! Demaspez le chement Les fommes s'en armu Attends Tom\""
      ],
      "execution_count": null,
      "outputs": []
    },
    {
      "cell_type": "code",
      "metadata": {
        "id": "FfexqzZS6DyD"
      },
      "source": [
        "text4=\"Et si nous voulons vraiment sortir de ce gâchis économique, si nous voulons vraiment des performances élevées sur ces tâches définitionnelles du 21e siècle, la solution n'est pas de faire plus de mauvaises choses, d'attirer les gens avec une carotte plus douce ou de menacer eux avec un bâton plus tranchant. J'ai vu quelqu'un en quelque sorte faire le mouvement ici -- certaines personnes ont une idée géniale de l'endroit où elles allument l'allumette, font fondre le côté de la bougie, essaient de la faire adhérer au mur. Vous n'en voyez pas beaucoup, mais vous voyez les premières agitations de quelque chose de vraiment intéressant qui se passe, ce que cela signifie payer les gens de manière adéquate et équitable, absolument -- éliminer la question de l'argent, puis donner aux gens beaucoup d'autonomie.\""
      ],
      "execution_count": null,
      "outputs": []
    },
    {
      "cell_type": "code",
      "metadata": {
        "colab": {
          "base_uri": "https://localhost:8080/"
        },
        "id": "yi3hUUxR6jrI",
        "outputId": "fe086f02-8da7-4e30-9bd7-678fbc98b377"
      },
      "source": [
        "jellyfish.jaro_winkler_similarity(text3,text4)"
      ],
      "execution_count": null,
      "outputs": [
        {
          "output_type": "execute_result",
          "data": {
            "text/plain": [
              "0.5794844668279845"
            ]
          },
          "metadata": {},
          "execution_count": 14
        }
      ]
    },
    {
      "cell_type": "code",
      "metadata": {
        "colab": {
          "base_uri": "https://localhost:8080/"
        },
        "id": "pcJjHk5j6u_n",
        "outputId": "10ad085d-4bd0-4310-fa84-c1d03c87673b"
      },
      "source": [
        "from nltk.translate.bleu_score import sentence_bleu\n",
        "reference=\"Quictez nous e toi ? Restez as iré At-le fass Ce m'agirais pas Trommest Tombress-t-il ? Canstez votrea vote patie Regardez vot aver Reste assis sen adoucoy ! Continuez à l'imer Viez chez mou ! C'est chal mYYndermène-tui ! Laisez-vous s'il vous plaît Restez as iré Lâche m'en sis e toin ! Arrête de fladre Reste assis sen adoucoy ! C'est chal Regardez avec mei Y dincrouQtelle un moi ! C'est dassériens-toi ? Continuez à l'imer Nous s vons sure Restez as iré Restez à l'emporte Au un impollate ! Il a cussintra Il lu tent C'est dassériens-toi ? Continuez à l'imer Restez as iré Des de cons arfeat-il ! Verez mou de l'il ! Tencre à l'hers Ne daissez pas en able Continue à rouler ! Dus aveux vous ! Sait-ilissez-vous Atez arme ! Restez as iré i à nois re de pleurer Les fommes s'en armu Restez as iré Ennegez-vous ceci Laissez-vous soutire ! Quelle fort ? Amandu laurhe Suis le cher ! Fuez alat-il Reste assis sen adoucoy ! Tom est iclète ? Condins pour qui t'en al ! Ne blaggère pas Regarde Tom Suppore Tom Tommé Reste assis sen adoucoy ! Dempsez-le simplement ! Ne paritsez pas tormble ! Les fommes s'en armu Pas de fromde ! Regéte assis Quictez nous e toi ? Ne t'ai fait pas Quelle fort ? Série sert malquil ! C'est de l'arrchante Continuez à l'imer Enmerrez-la Fuez alat-il Les fommes s'en armu Reste assises Bonnoliez vous malion Vous êtes du seute Ne t'ai fait pas Quelle fort ? Série sert malquil ! C'est de l'arrchante Lavez votre voir Neurris llame t'en se lais Venool s'el vous pas ! Ce s'est pas nougea re celle chançon Reste gagner Les fommes s'en armu Restez as iré Continuez à l'imer Ségeriez-vous ! Restez as iré tespez à n'issaye C'est chal mYYndermène-tui ! Continuez à l'imer Veille entembre Viens te heureux ! Les fommes s'en armu Restez as iré Aite domme à vour un fous ? reste me quille ! Continuez à l'imer Dis-me m'ensais de la mainque Sauvez Tom ! C'est tropisile tt fal me faire Regarde Tom Commest dessez-les der icle ? Cais de la récile Commentez-le à la maison ? Continuez à l'ire Contente as arver C'est tropisile tt fal me faire Regarde Tom mes bien du ! te tersser Restez avourage Tom obiti Ne paritsez pas tormble ! Les fommes s'en armu Prends ma marcie à Tom Restez as iré Tom va la mercher du somme Saispes-me Nous sommes sournois l an baison Tom a faim trent Sauvez Tom ! Sauvez-moin Regarde Tom Exmère enceraiten Don bien soit vous Airjère Tom va mort Restez concentrée res en eu fois Restez as iré Rentez à loire ai entrer Tama Restez as iré C'est drôle Les fommes s'en armu Restez as iré Ne toitez toi ! Restez tranquille ! Continuez à l'imer Vez linne à pleistant Reste assis Continuez à l'imer Restez as iré Cela fure t a faites mieux Ne ne faise pas Nous s vons sure Regarde Tom Demandez ça Les fommes s'en armu Reste al semmen ! Il a cussintra réseperez-vous Nous s vons sure Restez as iré Écois-nous des nouveaux ! testez saïs Les fommes s'en armu Tom a plissé ici Série sert malquil ! C'est enssient C'est dassériens-toi ? Privez pour moi ! C'est déle rezurdion Reste assis Dien seul de qui pas ! C'est chal Chauvez pas ! Sauvez Tom ! Désigez-vous en vire ! Tencre à l'hers Jéseissez scre ravais-je l'écler l an baison S'int queit se vicu Restez as iré C'est de la nourriture Les fommes s'en armu Viens tiendent marrêtes ! Soyez impitoyable ! Restez as iré Regué dircitit Tencre à l'hers Continuez à roucer ! Celmez de commence ntre Sauvez Tom ! Demaspez le chement Les fommes s'en armu Attends Tom\"\n",
        "candidate=\"Et si nous voulons vraiment sortir de ce gâchis économique, si nous voulons vraiment des performances élevées sur ces tâches définitionnelles du 21e siècle, la solution n'est pas de faire plus de mauvaises choses, d'attirer les gens avec une carotte plus douce ou de menacer eux avec un bâton plus tranchant. J'ai vu quelqu'un en quelque sorte faire le mouvement ici -- certaines personnes ont une idée géniale de l'endroit où elles allument l'allumette, font fondre le côté de la bougie, essaient de la faire adhérer au mur. Vous n'en voyez pas beaucoup, mais vous voyez les premières agitations de quelque chose de vraiment intéressant qui se passe, ce que cela signifie payer les gens de manière adéquate et équitable, absolument -- éliminer la question de l'argent, puis donner aux gens beaucoup d'autonomie.\"\n",
        "print('BLEU score -> {}'.format(sentence_bleu(reference, candidate)))"
      ],
      "execution_count": null,
      "outputs": [
        {
          "output_type": "stream",
          "name": "stdout",
          "text": [
            "BLEU score -> 0.44899290431423966\n"
          ]
        },
        {
          "output_type": "stream",
          "name": "stderr",
          "text": [
            "/usr/local/lib/python3.7/dist-packages/nltk/translate/bleu_score.py:490: UserWarning: \n",
            "Corpus/Sentence contains 0 counts of 2-gram overlaps.\n",
            "BLEU scores might be undesirable; use SmoothingFunction().\n",
            "  warnings.warn(_msg)\n"
          ]
        }
      ]
    }
  ]
}